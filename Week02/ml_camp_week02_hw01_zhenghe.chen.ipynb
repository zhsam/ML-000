{
  "nbformat": 4,
  "nbformat_minor": 0,
  "metadata": {
    "colab": {
      "name": "机器学习训练营-Week02HW-陈正和.ipynb",
      "provenance": [],
      "collapsed_sections": []
    },
    "kernelspec": {
      "name": "python3",
      "display_name": "Python 3"
    }
  },
  "cells": [
    {
      "cell_type": "markdown",
      "metadata": {
        "id": "XJZiE1Nq_prj"
      },
      "source": [
        "## 作业1 - Week02\n",
        "把提供的 target encoding 代码改为 cython 代码并比较速度区别（如可以实现并行可加分）"
      ]
    },
    {
      "cell_type": "markdown",
      "metadata": {
        "id": "JRDkOBG2_YPa"
      },
      "source": [
        "### 导入需要的模块"
      ]
    },
    {
      "cell_type": "code",
      "metadata": {
        "id": "DqZ4iUPT9VyN",
        "colab": {
          "base_uri": "https://localhost:8080/"
        },
        "outputId": "bf0874cc-de52-4973-d116-14ad3c6e13ff"
      },
      "source": [
        "%load_ext Cython"
      ],
      "execution_count": 18,
      "outputs": [
        {
          "output_type": "stream",
          "text": [
            "The Cython extension is already loaded. To reload it, use:\n",
            "  %reload_ext Cython\n"
          ],
          "name": "stdout"
        }
      ]
    },
    {
      "cell_type": "code",
      "metadata": {
        "id": "1ivVriIX8uZA"
      },
      "source": [
        "# coding = 'utf-8'\n",
        "import numpy as np\n",
        "import pandas as pd"
      ],
      "execution_count": 20,
      "outputs": []
    },
    {
      "cell_type": "markdown",
      "metadata": {
        "id": "3v8N8IgW_d6t"
      },
      "source": [
        "### 定义函数"
      ]
    },
    {
      "cell_type": "code",
      "metadata": {
        "id": "G4IfOB5t8uyj"
      },
      "source": [
        "def target_mean_v1(data, y_name, x_name):\n",
        "    result = np.zeros(data.shape[0])\n",
        "    for i in range(data.shape[0]):\n",
        "        groupby_result = data[data.index != i].groupby([x_name], as_index=False).agg(['mean', 'count'])\n",
        "        result[i] = groupby_result.loc[groupby_result.index == data.loc[i, x_name], (y_name, 'mean')]\n",
        "    return result"
      ],
      "execution_count": 21,
      "outputs": []
    },
    {
      "cell_type": "code",
      "metadata": {
        "id": "36g_BhLa90cj"
      },
      "source": [
        "def target_mean_v2(data, y_name, x_name):\n",
        "    result = np.zeros(data.shape[0])\n",
        "    value_dict = dict()\n",
        "    count_dict = dict()\n",
        "    for i in range(data.shape[0]):\n",
        "        if data.loc[i, x_name] not in value_dict.keys():\n",
        "            value_dict[data.loc[i, x_name]] = data.loc[i, y_name]\n",
        "            count_dict[data.loc[i, x_name]] = 1\n",
        "        else:\n",
        "            value_dict[data.loc[i, x_name]] += data.loc[i, y_name]\n",
        "            count_dict[data.loc[i, x_name]] += 1\n",
        "\n",
        "    for i in range(data.shape[0]):\n",
        "        result[i] = (value_dict[data.loc[i, x_name]] - data.loc[i, y_name]) / (count_dict[data.loc[i, x_name]] - 1)\n",
        "    return result"
      ],
      "execution_count": 97,
      "outputs": []
    },
    {
      "cell_type": "markdown",
      "metadata": {
        "id": "ITfB0cZQLVG8"
      },
      "source": [
        "#### v3\n",
        "- 导入Cython\n",
        "- 将变量，用cnp, cdef 替代"
      ]
    },
    {
      "cell_type": "code",
      "metadata": {
        "id": "BZ7J05Ha_ypH"
      },
      "source": [
        "%%cython\n",
        "import numpy as np\n",
        "cimport numpy as cnp\n",
        "\n",
        "cpdef target_mean_v3(data, y_name, x_name):\n",
        "    cdef int n = data.shape[0]\n",
        "    cdef double[:] result = np.zeros((n,))\n",
        "\n",
        "    value_dict = dict()\n",
        "    count_dict = dict()\n",
        "\n",
        "    for i in range(n):\n",
        "        if data.loc[i, x_name] not in value_dict.keys():\n",
        "            value_dict[data.loc[i, x_name]] = data.loc[i, y_name]\n",
        "            count_dict[data.loc[i, x_name]] = 1\n",
        "        else:\n",
        "            value_dict[data.loc[i, x_name]] += data.loc[i, y_name]\n",
        "            count_dict[data.loc[i, x_name]] += 1\n",
        "\n",
        "    for i in range(n):\n",
        "        result[i] = (value_dict[data.loc[i, x_name]] - data.loc[i, y_name]) / (count_dict[data.loc[i, x_name]] - 1)\n",
        "    return result"
      ],
      "execution_count": 89,
      "outputs": []
    },
    {
      "cell_type": "markdown",
      "metadata": {
        "id": "3gZQ0izYLaT9"
      },
      "source": [
        "#### v4\n",
        "- 每次都会重复查找 `data.iloc[i, x_name]`, 建立一个参数来储存。"
      ]
    },
    {
      "cell_type": "code",
      "metadata": {
        "id": "NAFTQwdyK4gW"
      },
      "source": [
        "%%cython\n",
        "import numpy as np\n",
        "cimport numpy as cnp\n",
        "\n",
        "cpdef target_mean_v4_cython(data, y_name, x_name):\n",
        "    cdef int n = data.shape[0]\n",
        "    cdef double[:] result = np.zeros((n,))\n",
        "    cdef int x = 0\n",
        "    cdef int y = 0\n",
        "\n",
        "    value_dict = dict()\n",
        "    count_dict = dict()\n",
        "\n",
        "    for i in range(n):\n",
        "        x = data.loc[i, x_name]\n",
        "        y = data.loc[i, y_name]\n",
        "\n",
        "        if x not in value_dict.keys():\n",
        "            value_dict[x] = y\n",
        "            count_dict[x] = 1\n",
        "        else:\n",
        "            value_dict[x] += y\n",
        "            count_dict[x] += 1\n",
        "\n",
        "        x = 0\n",
        "        y = 0\n",
        "\n",
        "    for i in range(n):\n",
        "        x = data.loc[i, x_name]\n",
        "        result[i] = (value_dict[x] - data.loc[i, y_name]) / (count_dict[x] - 1)\n",
        "        x = 0\n",
        "    return result"
      ],
      "execution_count": 90,
      "outputs": []
    },
    {
      "cell_type": "code",
      "metadata": {
        "id": "3xLDWHSgDjnQ"
      },
      "source": [
        "# 制造数据\n",
        "y = np.random.randint(2, size=(5000, 1))\n",
        "x = np.random.randint(10, size=(5000, 1))\n",
        "data = pd.DataFrame(np.concatenate([y, x], axis=1), columns=['y', 'x'])"
      ],
      "execution_count": 52,
      "outputs": []
    },
    {
      "cell_type": "code",
      "metadata": {
        "id": "ZVji4epT92TA",
        "colab": {
          "base_uri": "https://localhost:8080/"
        },
        "outputId": "a3c5345b-c786-436d-8e1b-31c9b6dfaf57"
      },
      "source": [
        "# 对比结果: 确保数据准确性\n",
        "\n",
        "# 默认\n",
        "result_1 = target_mean_v1(data, 'y', 'x')\n",
        "\n",
        "# 优化\n",
        "result_2 = target_mean_v2(data, 'y', 'x')\n",
        "result_3 = target_mean_v4_cython(data, 'y', 'x')\n",
        "\n",
        "# 结果对比\n",
        "diff = np.linalg.norm(result_1 - result_2)\n",
        "print('diff1,2: {}'.format(diff))\n",
        "\n",
        "diff = np.linalg.norm(result_1 - result_3)\n",
        "print('diff1,3: {}'.format(diff))"
      ],
      "execution_count": 98,
      "outputs": [
        {
          "output_type": "stream",
          "text": [
            "diff1,2: 0.0\n",
            "diff1,3: 0.0\n"
          ],
          "name": "stdout"
        }
      ]
    },
    {
      "cell_type": "code",
      "metadata": {
        "id": "GWcI7Bnh9NFT",
        "colab": {
          "base_uri": "https://localhost:8080/"
        },
        "outputId": "d8802b09-a17d-4f10-fba0-8fcbfcd4b2a1"
      },
      "source": [
        "# 默认\n",
        "%%timeit\n",
        "result_1 = target_mean_v1(data, 'y', 'x')"
      ],
      "execution_count": 92,
      "outputs": [
        {
          "output_type": "stream",
          "text": [
            "1 loop, best of 3: 27.5 s per loop\n"
          ],
          "name": "stdout"
        }
      ]
    },
    {
      "cell_type": "code",
      "metadata": {
        "colab": {
          "base_uri": "https://localhost:8080/"
        },
        "id": "txiQZPFO-Ggi",
        "outputId": "e5c816ae-b795-4b40-a52c-3e8208e2c4f4"
      },
      "source": [
        "# 初始优化\n",
        "%%timeit\n",
        "result_2 = target_mean_v2(data, 'y', 'x')"
      ],
      "execution_count": 99,
      "outputs": [
        {
          "output_type": "stream",
          "text": [
            "1 loop, best of 3: 302 ms per loop\n"
          ],
          "name": "stdout"
        }
      ]
    },
    {
      "cell_type": "code",
      "metadata": {
        "id": "l3MbNyho-O-h",
        "colab": {
          "base_uri": "https://localhost:8080/"
        },
        "outputId": "78627815-e16a-476c-81a6-9733eee54dd2"
      },
      "source": [
        "# Cython语法\n",
        "%%timeit\n",
        "result_3 = target_mean_v4_cython(data, 'y', 'x')"
      ],
      "execution_count": 94,
      "outputs": [
        {
          "output_type": "stream",
          "text": [
            "10 loops, best of 3: 164 ms per loop\n"
          ],
          "name": "stdout"
        }
      ]
    },
    {
      "cell_type": "code",
      "metadata": {
        "id": "0oxOkrNKKro7"
      },
      "source": [
        ""
      ],
      "execution_count": null,
      "outputs": []
    }
  ]
}